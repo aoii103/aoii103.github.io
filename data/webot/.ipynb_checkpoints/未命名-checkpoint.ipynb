{
 "cells": [
  {
   "cell_type": "code",
   "execution_count": 26,
   "metadata": {},
   "outputs": [],
   "source": [
    "from wordcloud import ImageColorGenerator, WordCloud\n",
    "import jieba\n",
    "import json\n",
    "import pathlib\n",
    "import numpy as np\n",
    "from PIL import Image\n",
    "from pyquery import PyQuery as jq\n",
    "\n",
    "def filter_html(text):\n",
    "    try:\n",
    "        return jq(text).text()\n",
    "    except Exception as e:\n",
    "        return text\n",
    "        \n",
    "\n",
    "def make_friends_signature_wall_word_cloud(text, colors_path=None):\n",
    "    if not text:\n",
    "        print(\"none text!\")\n",
    "        return\n",
    "    if pathlib.Path(colors_path).exists():\n",
    "        img = Image.open(colors_path)\n",
    "        img = img.resize((400,356), Image.ANTIALIAS)\n",
    "        colors = np.array(img)\n",
    "    jiebares = \" \".join(jieba.cut(text))\n",
    "    wc = WordCloud(\n",
    "        background_color=\"white\",\n",
    "        font_path=\"HYQiHei-25J.ttf\",\n",
    "        max_words=300,\n",
    "        mask=colors,\n",
    "        max_font_size=40,\n",
    "        random_state=45,\n",
    "    )\n",
    "    wc.generate(jiebares)\n",
    "    wc.recolor(color_func=ImageColorGenerator(colors))\n",
    "    wc.to_file(\"friends_signature_wall_word_cloud.png\")"
   ]
  },
  {
   "cell_type": "code",
   "execution_count": 27,
   "metadata": {},
   "outputs": [],
   "source": [
    "with pathlib.Path('contacts.json').open('r') as file:\n",
    "    datas = '\\n'.join([filter_html(item['Signature']) for item in  json.loads(file.read())['MemberList']]) \n",
    "    "
   ]
  },
  {
   "cell_type": "code",
   "execution_count": 28,
   "metadata": {},
   "outputs": [],
   "source": [
    "make_friends_signature_wall_word_cloud(datas,'webot.png')"
   ]
  },
  {
   "cell_type": "code",
   "execution_count": null,
   "metadata": {},
   "outputs": [],
   "source": []
  }
 ],
 "metadata": {
  "kernelspec": {
   "display_name": "Python 3",
   "language": "python",
   "name": "python3"
  }
 },
 "nbformat": 4,
 "nbformat_minor": 2
}
